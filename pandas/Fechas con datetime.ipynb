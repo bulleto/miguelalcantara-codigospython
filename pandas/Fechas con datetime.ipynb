{
 "cells": [
  {
   "cell_type": "code",
   "execution_count": null,
   "metadata": {},
   "outputs": [],
   "source": [
    "from datetime import date\n",
    "\n",
    "d1 = date(2013,5,20)\n",
    "\n",
    "print(d1)\n",
    "\n",
    "print(type(d1))\n"
   ]
  },
  {
   "cell_type": "code",
   "execution_count": null,
   "metadata": {},
   "outputs": [],
   "source": [
    "print(d1)\n",
    "\n",
    "# Día\n",
    "print('Día :',d1.day)\n",
    "\n",
    "# Mes\n",
    "print('Mes :',d1.month)\n",
    "\n",
    "# Año\n",
    "print('Año :',d1.year)"
   ]
  },
  {
   "cell_type": "code",
   "execution_count": null,
   "metadata": {},
   "outputs": [],
   "source": [
    "d1 = date.today()\n",
    "print(d1)\n",
    "\n",
    "# Día\n",
    "print('Día :',d1.day)\n",
    "\n",
    "# Mes\n",
    "print('Mes :',d1.month)\n",
    "\n",
    "# Año\n",
    "print('Año :',d1.year)"
   ]
  },
  {
   "cell_type": "code",
   "execution_count": null,
   "metadata": {},
   "outputs": [],
   "source": [
    "from datetime import time\n",
    "\n",
    "t1 = time(15,20,13,40)\n",
    "\n",
    "print(t1)\n",
    "\n",
    "print(type(t1))"
   ]
  },
  {
   "cell_type": "code",
   "execution_count": null,
   "metadata": {},
   "outputs": [],
   "source": [
    "# Hora\n",
    "print('Hora :',t1.hour)\n",
    "\n",
    "# Minuto\n",
    "print('Minuto :',t1.minute)\n",
    "\n",
    "# Segundo\n",
    "print('Segundo :',t1.second)\n",
    "\n",
    "# Microsegundo\n",
    "print('Microsegundo :',t1.microsecond)"
   ]
  },
  {
   "cell_type": "code",
   "execution_count": null,
   "metadata": {},
   "outputs": [],
   "source": [
    "import datetime\n",
    "\n",
    "d1 = datetime.datetime.now()\n",
    "d1"
   ]
  },
  {
   "cell_type": "code",
   "execution_count": null,
   "metadata": {},
   "outputs": [],
   "source": [
    "d1 = datetime.datetime(2020,4,23,11,20,30,40)\n",
    "\n",
    "print(d1)\n",
    "\n",
    "# Día\n",
    "print('Día :',d1.day)\n",
    "\n",
    "# Mes\n",
    "print('Mes :',d1.month)\n",
    "\n",
    "# Año\n",
    "print('Año :',d1.year)\n",
    "\n",
    "# Hora\n",
    "print('-------------- \\n Hora :',d1.hour)\n",
    "\n",
    "# Minuto\n",
    "print('Minuto :',d1.minute)\n",
    "\n",
    "# Segundo\n",
    "print('Segundo :',d1.second)\n",
    "\n",
    "# Microsegundo\n",
    "print('Microsegundo :',d1.microsecond)"
   ]
  },
  {
   "cell_type": "code",
   "execution_count": null,
   "metadata": {},
   "outputs": [],
   "source": [
    "print(d1)\n",
    "print(d1.weekday())"
   ]
  },
  {
   "cell_type": "code",
   "execution_count": null,
   "metadata": {},
   "outputs": [],
   "source": [
    "d1 = datetime.datetime.now()\n",
    "d1"
   ]
  },
  {
   "cell_type": "code",
   "execution_count": null,
   "metadata": {},
   "outputs": [],
   "source": [
    "print(d1.weekday())"
   ]
  },
  {
   "cell_type": "code",
   "execution_count": null,
   "metadata": {},
   "outputs": [],
   "source": [
    "print(d1.isoweekday())"
   ]
  },
  {
   "cell_type": "code",
   "execution_count": null,
   "metadata": {},
   "outputs": [],
   "source": [
    "d1.isocalendar()"
   ]
  },
  {
   "cell_type": "code",
   "execution_count": null,
   "metadata": {},
   "outputs": [],
   "source": [
    "d1_datetime = date.fromisoformat('2020-04-23')\n",
    "print(d1_datetime)\n",
    "print(type(d1_datetime))"
   ]
  },
  {
   "cell_type": "code",
   "execution_count": null,
   "metadata": {},
   "outputs": [],
   "source": [
    "\n",
    "d1_ISO = date(2020,4,23).isoformat()\n",
    "\n",
    "print(d1_ISO)\n",
    "print(type(d1_ISO))"
   ]
  },
  {
   "cell_type": "code",
   "execution_count": null,
   "metadata": {},
   "outputs": [],
   "source": [
    "fecha = '22 April, 2020 13:20:13'\n",
    "\n",
    "d1 = datetime.datetime.strptime(fecha,'%d %B, %Y %H:%M:%S')\n",
    "\n",
    "print(d1)\n",
    "print(type(d1))"
   ]
  },
  {
   "cell_type": "code",
   "execution_count": null,
   "metadata": {},
   "outputs": [],
   "source": [
    "d1 = datetime.datetime.now()\n",
    "\n",
    "print(\"Fecha de hoy :\",d1)\n"
   ]
  },
  {
   "cell_type": "code",
   "execution_count": null,
   "metadata": {},
   "outputs": [],
   "source": [
    "d2 = d1 + datetime.timedelta(days=2)\n",
    "print(\"Fecha: 2 días a partir de hoy :\",d2)\n"
   ]
  },
  {
   "cell_type": "code",
   "execution_count": null,
   "metadata": {},
   "outputs": [],
   "source": [
    "d3 = d1 + datetime.timedelta(weeks=2)\n",
    "print(\"Fecha: 2 semanas a partir de hoy :\",d3)"
   ]
  },
  {
   "cell_type": "code",
   "execution_count": null,
   "metadata": {},
   "outputs": [],
   "source": [
    "d2 = d1 - datetime.timedelta(days=2)\n",
    "print(\"Fecha: 2 días antes de hoy :\",d2)\n",
    "\n",
    "d3 = d1 - datetime.timedelta (weeks=2)\n",
    "print(\"Fecha: 2 semanas antes de hoy :\",d3)"
   ]
  },
  {
   "cell_type": "code",
   "execution_count": null,
   "metadata": {},
   "outputs": [],
   "source": []
  }
 ],
 "metadata": {
  "kernelspec": {
   "display_name": "Python 3",
   "language": "python",
   "name": "python3"
  },
  "language_info": {
   "codemirror_mode": {
    "name": "ipython",
    "version": 3
   },
   "file_extension": ".py",
   "mimetype": "text/x-python",
   "name": "python",
   "nbconvert_exporter": "python",
   "pygments_lexer": "ipython3",
   "version": "3.8.8"
  }
 },
 "nbformat": 4,
 "nbformat_minor": 4
}
