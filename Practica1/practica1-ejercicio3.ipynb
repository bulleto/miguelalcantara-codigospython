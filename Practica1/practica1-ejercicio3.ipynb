{
 "cells": [
  {
   "cell_type": "code",
   "execution_count": 2,
   "id": "d0b3a38d",
   "metadata": {},
   "outputs": [
    {
     "name": "stdout",
     "output_type": "stream",
     "text": [
      "Valor de resistencia:1\n",
      "Valor de resistencia:4\n",
      "Resistencia Total:  0.8\n"
     ]
    }
   ],
   "source": [
    "\n",
    "R1 = int (input(\"valor de la resistencia:\"))\n",
    "R2 = int (input(\"valor de la resistencia:\"))\n",
    "Rt=(1/R1)+(1/R2)\n",
    "Req = 1/Rt\n",
    "print(\"Resistencia Total: \",Req)"
   ]
  },
  {
   "cell_type": "code",
   "execution_count": null,
   "id": "2fce6c9a",
   "metadata": {
    "scrolled": false
   },
   "outputs": [],
   "source": []
  },
  {
   "cell_type": "code",
   "execution_count": null,
   "id": "17c7adb6",
   "metadata": {},
   "outputs": [],
   "source": []
  }
 ],
 "metadata": {
  "kernelspec": {
   "display_name": "Python 3",
   "language": "python",
   "name": "python3"
  },
  "language_info": {
   "codemirror_mode": {
    "name": "ipython",
    "version": 3
   },
   "file_extension": ".py",
   "mimetype": "text/x-python",
   "name": "python",
   "nbconvert_exporter": "python",
   "pygments_lexer": "ipython3",
   "version": "3.8.8"
  }
 },
 "nbformat": 4,
 "nbformat_minor": 5
}
