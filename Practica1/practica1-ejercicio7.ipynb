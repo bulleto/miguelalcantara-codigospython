{
 "cells": [
  {
   "cell_type": "code",
   "execution_count": 1,
   "id": "22c0233a",
   "metadata": {},
   "outputs": [
    {
     "name": "stdout",
     "output_type": "stream",
     "text": [
      "ingresa tu edad 18\n",
      "cuanto ganas al mes400\n",
      "cuanto gastas al mes500\n",
      "\n",
      "cuanto deseas que te prestemos? 1000\n",
      "en cuantos meses pagaras tu prestamo? 4\n",
      "debes tener ingresos mas altos que tus egresos\n"
     ]
    }
   ],
   "source": [
    "edad = int(input(\"ingresa tu edad \"))\n",
    "ingresos = float(input(\"cuanto ganas al mes\"))\n",
    "egresos = float(input(\"cuanto gastas al mes\"))\n",
    "print(\"\")\n",
    "prestamo=float(input(\"cuanto deseas que te prestemos? \"))\n",
    "tiempo=int(input(\"en cuantos meses pagaras tu prestamo? \"))\n",
    "if(edad>=18):\n",
    "    if(ingresos>egresos):\n",
    "        dinero_disp=ingresos-egresos\n",
    "        cuota=prestamo/tiempo\n",
    "\n",
    "        if(dinero_disp >= cuota):\n",
    "            print(\"Credito Aprovado\")\n",
    "            print (\"tu cuota mensual sera de: \"+ str(cuota))\n",
    "            print (\"los pagos seran durante: \" + str(tiempo))\n",
    "            print(\"gracias por regalarnos tu dinero crack!!\")\n",
    "        else:\n",
    "            print(\"no puedes cubrir la cuota mensual de tu prestamo\")\n",
    "\n",
    "    else:\n",
    "        print(\"debes tener ingresos mas altos que tus egresos\")\n",
    "else:\n",
    "    print(\"no puedes pedir un prestamo eres menor de edad\")"
   ]
  },
  {
   "cell_type": "code",
   "execution_count": null,
   "id": "3c1feac3",
   "metadata": {},
   "outputs": [],
   "source": []
  }
 ],
 "metadata": {
  "kernelspec": {
   "display_name": "Python 3",
   "language": "python",
   "name": "python3"
  },
  "language_info": {
   "codemirror_mode": {
    "name": "ipython",
    "version": 3
   },
   "file_extension": ".py",
   "mimetype": "text/x-python",
   "name": "python",
   "nbconvert_exporter": "python",
   "pygments_lexer": "ipython3",
   "version": "3.8.8"
  }
 },
 "nbformat": 4,
 "nbformat_minor": 5
}
