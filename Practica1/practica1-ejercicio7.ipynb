{
 "cells": [
  {
   "cell_type": "code",
   "execution_count": 4,
   "id": "22c0233a",
   "metadata": {},
   "outputs": [
    {
     "name": "stdout",
     "output_type": "stream",
     "text": [
      "ingresa tu edad: 18\n",
      "ganancias mensuales: 3000\n",
      "cuanto gastas al mes: 1200\n",
      "\n",
      "ingresa la cantidad de dinero a solicitar: 100\n",
      "ingresa el plazo en meses a pagar 5\n",
      "El prestamo ha sido aprobado\n",
      "la cuota mensual sera de: 20.0pesos\n",
      "los pagos seran durante: 5\n"
     ]
    }
   ],
   "source": [
    "edad = int(input(\"ingresa tu edad: \"))\n",
    "ingresos = float(input(\"ganancias mensuales: \"))\n",
    "egresos = float(input(\"cuanto gastas al mes: \"))\n",
    "print(\"\")\n",
    "prestamo=float(input(\"ingresa la cantidad de dinero a solicitar: \"))\n",
    "tiempo=int(input(\"ingresa el plazo en meses a pagar \"))\n",
    "if(edad>=18):\n",
    "    if(ingresos>egresos):\n",
    "        dinero_disp=ingresos-egresos\n",
    "        cuota=prestamo/tiempo\n",
    "\n",
    "        if(dinero_disp >= cuota):\n",
    "            print(\"El prestamo ha sido aprobado\")\n",
    "            print (\"la cuota mensual sera de: \"+ str(cuota) + \"pesos\")\n",
    "            print (\"los pagos seran durante: \" + str(tiempo))           \n",
    "        else:\n",
    "            print(\"no puedes cubrir la cuota mensual de tu prestamo\")\n",
    "\n",
    "    else:\n",
    "        print(\"error: los egresos superan tu ingresos\")\n",
    "else:\n",
    "    print(\"error: Necesitas ser mayor de 18\")"
   ]
  },
  {
   "cell_type": "code",
   "execution_count": null,
   "id": "3c1feac3",
   "metadata": {},
   "outputs": [],
   "source": []
  }
 ],
 "metadata": {
  "kernelspec": {
   "display_name": "Python 3",
   "language": "python",
   "name": "python3"
  },
  "language_info": {
   "codemirror_mode": {
    "name": "ipython",
    "version": 3
   },
   "file_extension": ".py",
   "mimetype": "text/x-python",
   "name": "python",
   "nbconvert_exporter": "python",
   "pygments_lexer": "ipython3",
   "version": "3.8.8"
  }
 },
 "nbformat": 4,
 "nbformat_minor": 5
}
