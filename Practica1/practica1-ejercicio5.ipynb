{
 "cells": [
  {
   "cell_type": "code",
   "execution_count": 4,
   "id": "410a51ce",
   "metadata": {},
   "outputs": [
    {
     "name": "stdout",
     "output_type": "stream",
     "text": [
      "valor de a: 10\n",
      "valor de b: 2\n",
      "valor de c: 4\n",
      "La ecuacion no tiene solucion en los numeros reales\n"
     ]
    }
   ],
   "source": [
    "import math\n",
    "\n",
    "a = float(input(\"valor de a: \"))\n",
    "b = float(input(\"valor de b: \"))\n",
    "c = float(input(\"valor de c: \"))\n",
    "x = (b**2)-(4*a*c)\n",
    "\n",
    "if x > 0:\n",
    "    x1 = (-b + x**(1/2))/(2*a)\n",
    "    x2 = (-b- x**(1/2))/(2*a)\n",
    "    print(\"X1: \", x1)\n",
    "    print(\"X2: \", x2)\n",
    "else:\n",
    "    print(\"La ecuacion no tiene solucion en los numeros reales\")\n",
    "\n"
   ]
  },
  {
   "cell_type": "code",
   "execution_count": null,
   "id": "60907486",
   "metadata": {},
   "outputs": [],
   "source": []
  },
  {
   "cell_type": "code",
   "execution_count": null,
   "id": "ae261865",
   "metadata": {},
   "outputs": [],
   "source": []
  }
 ],
 "metadata": {
  "kernelspec": {
   "display_name": "Python 3",
   "language": "python",
   "name": "python3"
  },
  "language_info": {
   "codemirror_mode": {
    "name": "ipython",
    "version": 3
   },
   "file_extension": ".py",
   "mimetype": "text/x-python",
   "name": "python",
   "nbconvert_exporter": "python",
   "pygments_lexer": "ipython3",
   "version": "3.8.8"
  }
 },
 "nbformat": 4,
 "nbformat_minor": 5
}
