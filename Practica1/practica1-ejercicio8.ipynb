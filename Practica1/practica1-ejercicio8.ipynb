{
 "cells": [
  {
   "cell_type": "code",
   "execution_count": 2,
   "id": "97539a6a",
   "metadata": {},
   "outputs": [
    {
     "name": "stdout",
     "output_type": "stream",
     "text": [
      "*\n",
      "* *\n",
      "* * *\n",
      "* * * *\n",
      "* * * * *\n",
      "* * * *\n",
      "* * *\n",
      "* *\n",
      "*\n"
     ]
    }
   ],
   "source": [
    "for i in range (9):\n",
    "    if(i==0):\n",
    "        print(\"*\")\n",
    "    elif(i==1):\n",
    "        print(\"* *\")\n",
    "    elif(i==2):\n",
    "        print(\"* * *\")\n",
    "    elif(i==3):\n",
    "        print(\"* * * *\")\n",
    "    elif(i==4):\n",
    "        print(\"* * * * *\")\n",
    "    elif(i==5):\n",
    "        print(\"* * * *\")\n",
    "    elif(i==6):\n",
    "        print(\"* * *\")\n",
    "    elif(i==7):\n",
    "        print(\"* *\")\n",
    "    elif(i==8):\n",
    "        print(\"*\")"
   ]
  },
  {
   "cell_type": "code",
   "execution_count": null,
   "id": "83e8e249",
   "metadata": {},
   "outputs": [],
   "source": []
  }
 ],
 "metadata": {
  "kernelspec": {
   "display_name": "Python 3",
   "language": "python",
   "name": "python3"
  },
  "language_info": {
   "codemirror_mode": {
    "name": "ipython",
    "version": 3
   },
   "file_extension": ".py",
   "mimetype": "text/x-python",
   "name": "python",
   "nbconvert_exporter": "python",
   "pygments_lexer": "ipython3",
   "version": "3.8.8"
  }
 },
 "nbformat": 4,
 "nbformat_minor": 5
}
