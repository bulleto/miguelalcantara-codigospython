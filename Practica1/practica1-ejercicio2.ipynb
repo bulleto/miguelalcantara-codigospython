{
 "cells": [
  {
   "cell_type": "code",
   "execution_count": 6,
   "id": "3e2e5110",
   "metadata": {},
   "outputs": [
    {
     "name": "stdout",
     "output_type": "stream",
     "text": [
      "Nombre:Miguel\n",
      "Telefono:55555555555\n",
      "Correo:mail@mail.com\n",
      "Saludos  Miguel\n",
      "Tu numero de telefono es: 55555555555\n",
      "Tu correo es: mail@mail.com\n"
     ]
    }
   ],
   "source": [
    "\n",
    "va1 = input(\"Nombre:\")\n",
    "va2 = input(\"Telefono:\")\n",
    "va3 = input(\"Correo:\")\n",
    "print(\"Saludos \", (va1))\n",
    "print(\"Tu numero de telefono es:\", (va2))\n",
    "print(\"Tu correo es:\", (va3))"
   ]
  },
  {
   "cell_type": "code",
   "execution_count": null,
   "id": "b9d9a477",
   "metadata": {},
   "outputs": [],
   "source": []
  },
  {
   "cell_type": "code",
   "execution_count": null,
   "id": "1f8f8575",
   "metadata": {},
   "outputs": [],
   "source": []
  }
 ],
 "metadata": {
  "kernelspec": {
   "display_name": "Python 3",
   "language": "python",
   "name": "python3"
  },
  "language_info": {
   "codemirror_mode": {
    "name": "ipython",
    "version": 3
   },
   "file_extension": ".py",
   "mimetype": "text/x-python",
   "name": "python",
   "nbconvert_exporter": "python",
   "pygments_lexer": "ipython3",
   "version": "3.8.8"
  }
 },
 "nbformat": 4,
 "nbformat_minor": 5
}
