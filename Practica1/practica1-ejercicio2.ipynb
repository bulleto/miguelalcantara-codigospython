{
 "cells": [
  {
   "cell_type": "code",
   "execution_count": 5,
   "id": "3e2e5110",
   "metadata": {},
   "outputs": [
    {
     "name": "stdout",
     "output_type": "stream",
     "text": [
      "Nombre:tadeo\n",
      "Telefono:5236974\n",
      "Correo:marifer@gmial.com\n"
     ]
    }
   ],
   "source": [
    "\n",
    "va1 = input(\"Nombre:\")\n",
    "va2 = input(\"Telefono:\")\n",
    "va3 = input(\"Correo:\")\n"
   ]
  },
  {
   "cell_type": "code",
   "execution_count": 6,
   "id": "b9d9a477",
   "metadata": {},
   "outputs": [
    {
     "name": "stdout",
     "output_type": "stream",
     "text": [
      "Te damos la bienvenida tadeo\n",
      "Tu numero de telefono es: 5236974\n",
      "La direccion de correo introducida es: marifer@gmial.com\n"
     ]
    }
   ],
   "source": [
    "print(\"Te damos la bienvenida\", (va1))\n",
    "print(\"Tu numero de telefono es:\", (va2))\n",
    "print(\"La direccion de correo introducida es:\", (va3))"
   ]
  },
  {
   "cell_type": "code",
   "execution_count": null,
   "id": "1f8f8575",
   "metadata": {},
   "outputs": [],
   "source": []
  }
 ],
 "metadata": {
  "kernelspec": {
   "display_name": "Python 3",
   "language": "python",
   "name": "python3"
  },
  "language_info": {
   "codemirror_mode": {
    "name": "ipython",
    "version": 3
   },
   "file_extension": ".py",
   "mimetype": "text/x-python",
   "name": "python",
   "nbconvert_exporter": "python",
   "pygments_lexer": "ipython3",
   "version": "3.8.8"
  }
 },
 "nbformat": 4,
 "nbformat_minor": 5
}
