{
 "cells": [
  {
   "cell_type": "code",
   "execution_count": 2,
   "id": "9c09b605",
   "metadata": {},
   "outputs": [
    {
     "name": "stdout",
     "output_type": "stream",
     "text": [
      "Ingrese los valores:\n",
      "       |a b|        \n",
      "       |c d|        \n",
      "Ingrese el valor a: 6\n",
      "Ingrese el valor b: 6\n",
      "Ingrese el valor c: 8\n",
      "Ingrese el valor d: 2\n"
     ]
    }
   ],
   "source": [
    "print (\"Ingrese los valores:\")\n",
    "print (\"       |a b|        \")\n",
    "print (\"       |c d|        \")\n",
    "\n",
    "a = int (input('Ingrese el valor a: ')) \n",
    "b = int (input('Ingrese el valor b: ')) \n",
    "c = int (input('Ingrese el valor c: ')) \n",
    "d = int (input('Ingrese el valor d: ')) "
   ]
  },
  {
   "cell_type": "code",
   "execution_count": 3,
   "id": "d826d7b5",
   "metadata": {},
   "outputs": [
    {
     "name": "stdout",
     "output_type": "stream",
     "text": [
      "Determinante: -36\n"
     ]
    }
   ],
   "source": [
    "total =(a*d)-(b*c)\n",
    "    \n",
    "if (total !=0): \n",
    "      print (\"Determinante:\",total)\n",
    "\n",
    "else: \n",
    "    print (\"Error el det. da 0\") "
   ]
  },
  {
   "cell_type": "code",
   "execution_count": null,
   "id": "66e1d295",
   "metadata": {},
   "outputs": [],
   "source": []
  }
 ],
 "metadata": {
  "kernelspec": {
   "display_name": "Python 3",
   "language": "python",
   "name": "python3"
  },
  "language_info": {
   "codemirror_mode": {
    "name": "ipython",
    "version": 3
   },
   "file_extension": ".py",
   "mimetype": "text/x-python",
   "name": "python",
   "nbconvert_exporter": "python",
   "pygments_lexer": "ipython3",
   "version": "3.8.8"
  }
 },
 "nbformat": 4,
 "nbformat_minor": 5
}
